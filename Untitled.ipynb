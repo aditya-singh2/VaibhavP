{
 "cells": [
  {
   "cell_type": "code",
   "execution_count": 1,
   "id": "ed4265b1",
   "metadata": {},
   "outputs": [],
   "source": [
    "import snowflake.connector\n",
    "import pandas as pd"
   ]
  },
  {
   "cell_type": "code",
   "execution_count": 2,
   "id": "28a26c13",
   "metadata": {},
   "outputs": [],
   "source": [
    "conn = snowflake.connector.connect(\n",
    "   user='VAIBHAV',\n",
    "   password='Password@2023',\n",
    "   account='ug94937.us-east4.gcp',\n",
    "   warehouse='FOSFOR_INSIGHT_WH',\n",
    "   database='FDC_DEV_VAIBHAV',\n",
    "   schema='PUBLIC'\n",
    ")"
   ]
  },
  {
   "cell_type": "code",
   "execution_count": 3,
   "id": "c5576497",
   "metadata": {},
   "outputs": [],
   "source": [
    "cursor = conn.cursor()"
   ]
  },
  {
   "cell_type": "code",
   "execution_count": null,
   "id": "5eddb721",
   "metadata": {},
   "outputs": [],
   "source": [
    "data = pd.read_csv('fifa_in.csv')"
   ]
  }
 ],
 "metadata": {
  "kernelspec": {
   "display_name": "Python 3",
   "language": "python",
   "name": "python3"
  },
  "language_info": {
   "codemirror_mode": {
    "name": "ipython",
    "version": 3
   },
   "file_extension": ".py",
   "mimetype": "text/x-python",
   "name": "python",
   "nbconvert_exporter": "python",
   "pygments_lexer": "ipython3",
   "version": "3.8.18"
  }
 },
 "nbformat": 4,
 "nbformat_minor": 5
}
