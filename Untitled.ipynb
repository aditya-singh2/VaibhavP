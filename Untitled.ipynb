{
 "cells": [
  {
   "cell_type": "code",
   "execution_count": 1,
   "id": "bf78c8f1",
   "metadata": {},
   "outputs": [],
   "source": [
    "import snowflake.connector\n",
    "import pandas as pd"
   ]
  },
  {
   "cell_type": "code",
   "execution_count": 2,
   "id": "22526b7c",
   "metadata": {},
   "outputs": [],
   "source": [
    "conn = snowflake.connector.connect(\n",
    "   user='VAIBHAV',\n",
    "   password='Password@2023',\n",
    "   account='ug94937.us-east4.gcp',\n",
    "   warehouse='FOSFOR_INSIGHT_WH',\n",
    "   database='FDC_DEV_VAIBHAV',\n",
    "   schema='PUBLIC'\n",
    ")"
   ]
  },
  {
   "cell_type": "code",
   "execution_count": 3,
   "id": "88600aaa",
   "metadata": {},
   "outputs": [],
   "source": [
    "cursor = conn.cursor()"
   ]
  },
  {
   "cell_type": "code",
   "execution_count": 4,
   "id": "9fe2721b",
   "metadata": {},
   "outputs": [],
   "source": [
    "data = pd.read_csv('fifa_input_6.csv')"
   ]
  },
  {
   "cell_type": "code",
   "execution_count": null,
   "id": "ee592b6e",
   "metadata": {},
   "outputs": [],
   "source": [
    "for index, row in data.iterrows():\n",
    "   sql = f\"\"\"\n",
    "   INSERT INTO PLAYER_STATS (AGE, HEIGHT_CM, WEIGHT_KG,SKILL_DRIBBLING,ATTACKING_CROSSING,ATTACKING_FINISHING,MOVEMENT_ACCELERATION,MOVEMENT_SPRINT_SPEED,POWER_SHOT_POWER,MENTALITY_AGGRESSION,\n",
    "   DEFENDING_MARKING,DEFENDING_STANDING_TACKLE,GOALKEEPING_DIVING,GOALKEEPING_HANDLING,OVERALL,POTENTIAL)\n",
    "   VALUES ('{row['AGE']}', '{row['HEIGHT_CM']}', '{row['WEIGHT_KG']}','{row['SKILL_DRIBBLING']}','{row['ATTACKING_CROSSING']}','{row['ATTACKING_FINISHING']}'\n",
    "   ,'{row['MOVEMENT_ACCELERATION']}','{row['MOVEMENT_SPRINT_SPEED']}','{row['POWER_SHOT_POWER']}','{row['MENTALITY_AGGRESSION']}','{row['DEFENDING_MARKING']}','{row['DEFENDING_STANDING_TACKLE']}',\n",
    "   '{row['GOALKEEPING_DIVING']}','{row['GOALKEEPING_HANDLING']}','{row['OVERALL']}','{row['POTENTIAL']}')\n",
    "   \"\"\"\n",
    "   cursor.execute(sql)"
   ]
  },
  {
   "cell_type": "code",
   "execution_count": null,
   "id": "88fa8470",
   "metadata": {},
   "outputs": [],
   "source": [
    "conn.commit()"
   ]
  },
  {
   "cell_type": "code",
   "execution_count": null,
   "id": "81de602c",
   "metadata": {},
   "outputs": [],
   "source": []
  }
 ],
 "metadata": {
  "kernelspec": {
   "display_name": "Python 3",
   "language": "python",
   "name": "python3"
  },
  "language_info": {
   "codemirror_mode": {
    "name": "ipython",
    "version": 3
   },
   "file_extension": ".py",
   "mimetype": "text/x-python",
   "name": "python",
   "nbconvert_exporter": "python",
   "pygments_lexer": "ipython3",
   "version": "3.8.18"
  }
 },
 "nbformat": 4,
 "nbformat_minor": 5
}
